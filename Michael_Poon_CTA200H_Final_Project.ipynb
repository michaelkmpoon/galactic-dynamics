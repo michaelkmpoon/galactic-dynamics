{
 "cells": [
  {
   "cell_type": "markdown",
   "metadata": {},
   "source": [
    "## QUESTIONS:\n",
    "\n",
    "PART 1: \n",
    "Write a Python function that takes the name of a star and returns a galpy Orbit object (setup with the star's position, distance, proper motion, and radial velocity). Apply to: GJ 440, Lacaille 8760, Vega. Check that you are finding the right star.\n",
    "\n",
    "PART 2: \n",
    "Match the APOGEE-red-clump catalog to Gaia DR2, integrate the orbits using galpy for 20 Gyr, and make a density plot in Galactocentric X and Y coordinates of all of the positions of the stars over the next 20 Gyr.\n",
    "\n",
    "PART 3: \n",
    "Write a function that takes (ra,dec,distance,proper motion ra,proper motion dec,line-of-sight velocity) and their Gaussian uncertainties for a star and computes eccentricity, zmax, rperi, rap and their uncertainties using Monte Carlo sampling with the galpy function galpy.actionAngle.actionAngleStaeckel.EccZmaxRperiRap. Apply to some stars in the Gaia RV sample. \n"
   ]
  },
  {
   "cell_type": "markdown",
   "metadata": {},
   "source": [
    "## SOLUTIONS:\n",
    "\n",
    "PART 1:\n",
    "\n",
    "Input name of star. We want to test 3 stars: GJ 440, Lacaille 8760, and Vega. Of course, our function will be generalized to any star identifiable by SIMBAD (Set of Identifications, Measurements, and Bibliography for Astronomical Data)"
   ]
  },
  {
   "cell_type": "code",
   "execution_count": null,
   "metadata": {
    "collapsed": true
   },
   "outputs": [],
   "source": [
    "# starname = input(\"Input star name to return as galpy Orbit object\")\n",
    "# Testing Examples:\n",
    "starnames = [\"GJ 440\", \"Lacaille 8760\", \"Vega\"]"
   ]
  },
  {
   "cell_type": "code",
   "execution_count": null,
   "metadata": {},
   "outputs": [],
   "source": [
    "# importing necessary modules in the order used\n",
    "from astroquery.simbad import Simbad\n",
    "from astropy.coordinates import SkyCoord\n",
    "import astropy.units as u\n",
    "from astroquery.gaia import Gaia\n",
    "from galpy.orbit import Orbit"
   ]
  },
  {
   "cell_type": "markdown",
   "metadata": {},
   "source": [
    "Algorithm:\n",
    "\n",
    "1) Setup SIMBAD search to also accept: parallax, proper motion (right ascention direction), proper motion (declination direction) and radial velocity using add_votable_fields (VOTable - Virtual Observatory Table)\n",
    "\n",
    "2) Given name of star, identify star in SIMBAD database using the query_object function and retrieve info.\n",
    "\n",
    "\n",
    "3) Since SIMBAD returns RA & DEC in hours/mins/seconds & degrees/arcminutes/arcseconds respectively, we use Skycoord to convert both into float degrees (ICRS (International Celestial Reference System) units) as that is what a galpy Orbit object requires. This makes a Skycoord object.\n",
    "\n",
    "\n",
    "4) Combine simbad_converted with simbad_info to make simbad_query ready to be queried by ADQL (Astronomical Data Query Language). 6 variables are required for  epoch propagation.\n",
    "\n",
    "\n",
    "5) In case SIMBAD returns \"--\" for unknown value, set values to 0.\n",
    "\n",
    "\n",
    "6) Perform cone search in GAIA DR2 with 0.000001 degrees and using epoch adjustment in ADQL by EPOCH_PROP_POS (we are propagating from 2000 to 2015.5).\n",
    "\n",
    "\n",
    "7) If Gaia tables are not empty, at least 5 tables (maybe not radial velocity) should have values. If not, use SIMBAD data to make a galpy Orbit object. Either way, if radial velocity data is lacking, set it = 20 km/s.\n"
   ]
  },
  {
   "cell_type": "code",
   "execution_count": null,
   "metadata": {
    "collapsed": true
   },
   "outputs": [],
   "source": [
    "def starname_to_galpyorbitobject(starname):\n",
    "    \n",
    "    simbad_setup = Simbad()  # Step 1\n",
    "    simbad_setup.add_votable_fields(\"parallax\", \"pmra\", \"pmdec\", \"rv_value\")\n",
    "    \n",
    "    simbad_info = simbad_setup.query_object(starname)  # Step 2   \n",
    "    \n",
    "    \n",
    "    simbad_converted = SkyCoord(simbad_info['RA'][0], simbad_info['DEC'][0], # Step 3\n",
    "                                unit = (u.hourangle, u.deg))  \n",
    "    \n",
    "    simbad_query = [simbad_converted.ra.value,  # Step 4\n",
    "                    simbad_converted.dec.value,\n",
    "                    simbad_info['PLX_VALUE'][0],\n",
    "                    simbad_info['PMRA'][0],\n",
    "                    simbad_info['PMDEC'][0],\n",
    "                    simbad_info['RV_VALUE'][0]]\n",
    "    \n",
    "    \n",
    "    simbad_query_fixed = []  # Step 5\n",
    "    for value in simbad_query:\n",
    "        if str(value) != '--':\n",
    "            simbad_query_fixed.append(value)\n",
    "        else:\n",
    "            simbad_query_fixed.append(0.0)\n",
    "        \n",
    "    if simbad_query_fixed[5] == 0.0:\n",
    "        simbad_query_fixed[5] = 20.0\n",
    "            \n",
    "    radius = 0.000001*u.deg  # Step 6\n",
    "    query =  \"\"\"\n",
    "             SELECT source_id, ra, dec, pmra, pmdec, parallax, radial_velocity\n",
    "             FROM gaiadr2.gaia_source\n",
    "             WHERE 1=CONTAINS(\n",
    "             POINT('ICRS',gaiadr2.gaia_source.ra,gaiadr2.gaia_source.dec),\n",
    "             CIRCLE('ICRS', \n",
    "             COORD1(EPOCH_PROP_POS({0},{1},{2},{3},{4},{5},2000,2015.5)),\n",
    "             COORD2(EPOCH_PROP_POS({0},{1},{2},{3},{4},{5},2000,2015.5)), {6}))\n",
    "             \"\"\".format(*simbad_query_fixed, radius.value)\n",
    "    gaiadr2_info = Gaia.launch_job_async(query)\n",
    "    results = gaiadr2_info.get_results()\n",
    "    \n",
    "    if len(results) == 0:  # Step 7\n",
    "        simbad_query_fixed[2] = 1 / simbad_query_fixed[2]  # parallax to distance\n",
    "        orbit = Orbit(vxvv = (simbad_query_fixed), radec = True)\n",
    "        return orbit\n",
    "    else:\n",
    "        if results['radial_velocity'][0] == '--':\n",
    "            results['radial_velocity'][0] = 20\n",
    "        orbit = Orbit(vxvv = (results['ra'][0],\n",
    "                              results['dec'][0],\n",
    "                              1 / results['parallax'][0],\n",
    "                              results['pmra'][0],\n",
    "                              results['pmdec'][0],\n",
    "                              results['radial_velocity'][0]), radec = True)\n",
    "        return orbit"
   ]
  },
  {
   "cell_type": "code",
   "execution_count": null,
   "metadata": {},
   "outputs": [],
   "source": [
    "# testing out inputted stars\n",
    "for star in starnames:\n",
    "    orbit = starname_to_galpyorbitobject(star)\n",
    "    print(type(orbit))\n",
    "    print(\"Star:\", star)\n",
    "    print(\"RA:\", orbit.ra(), \"deg\")\n",
    "    print(\"DEC:\", orbit.dec(), \"deg\")\n",
    "    print(\"Distance:\", orbit.dist(), \"kpc\")\n",
    "    print(\"Proper Motion RA:\", orbit.pmra(), \"mas/yr\")\n",
    "    print(\"Proper Motion DEC:\", orbit.pmdec(), \"deg\")\n",
    "    print(\"Radial Velocity:\", orbit.vlos(), \"km/s\\n\")"
   ]
  },
  {
   "cell_type": "markdown",
   "metadata": {},
   "source": [
    "PART 2:"
   ]
  },
  {
   "cell_type": "code",
   "execution_count": null,
   "metadata": {
    "collapsed": true
   },
   "outputs": [],
   "source": [
    "# importing necessary modules in the order used, \n",
    "# assume modules in PART 1 are still being used\n",
    "import gaia_tools.load as gload\n",
    "import numpy as np\n",
    "from galpy.potential import MWPotential2014\n",
    "from scipy.stats import kde\n",
    "\n",
    "\n",
    "import matplotlib.pyplot as plt\n"
   ]
  },
  {
   "cell_type": "code",
   "execution_count": null,
   "metadata": {},
   "outputs": [],
   "source": [
    "# Since I had trouble running my python function to download data online, \n",
    "# I manually downloaded APOGEE-RC DR14 and the crossmatched GAIA DR2 stars\n",
    "# So, this function calls files locally and does not require internet.\n",
    "\n",
    "rc_cat, gaia2_matches= gload.apogeerc(xmatch='gaiadr2')\n",
    "# I made changes to gaia_tools/xmatch/__init__.py source file, \n",
    "# I changed 'float128' to 'float64' in line64 as I kept getting a float128 error"
   ]
  },
  {
   "cell_type": "code",
   "execution_count": null,
   "metadata": {},
   "outputs": [],
   "source": [
    "# This quickly checks how many stars are crossmatched.\n",
    "counter = 0\n",
    "for i in gaia2_matches:\n",
    "    counter +=1\n",
    "print (counter)"
   ]
  },
  {
   "cell_type": "code",
   "execution_count": null,
   "metadata": {},
   "outputs": [],
   "source": [
    "ts = np.linspace(0, 20, 10)*u.Gyr  # to integrate orbits over 20 Billion years\n",
    "x = []  # store all x points\n",
    "y = []  # story all y points\n",
    "counter = 0\n",
    "for star in range(np.size(gaia2_matches)):\n",
    "    # stars with no radial velocity recorded are removed \n",
    "    # by default, they are -9999.99 km/s which is obviously incorrect\n",
    "    if gaia2_matches[star][\"radial_velocity\"] !=  -9999.99:\n",
    "        o = Orbit(vxvv=[gaia2_matches[star][\"ra_epoch2000\"],\n",
    "                        gaia2_matches[star][\"dec_epoch2000\"],\n",
    "                        (1/gaia2_matches[star][\"parallax\"]),\n",
    "                        gaia2_matches[star][\"pmra\"],\n",
    "                        gaia2_matches[star][\"pmdec\"],\n",
    "                        gaia2_matches[star][\"radial_velocity\"]], \n",
    "                        radec = True, ro = 8., vo = 220.)\n",
    "        o.integrate(ts, MWPotential2014)\n",
    "        info = o.plot(d1='x',d2='y')\n",
    "        x_temp, y_temp = info[0].get_data()\n",
    "        x.extend(x_temp)\n",
    "        y.extend(y_temp)\n",
    "        plt.close()\n",
    "        print(counter)\n",
    "        counter +=1\n",
    "        \n",
    "        \n",
    "\n"
   ]
  },
  {
   "cell_type": "code",
   "execution_count": null,
   "metadata": {},
   "outputs": [],
   "source": [
    "# Make density plot (2D histogram)\n",
    "plt.hist2d(x, y, bins=(100, 100), cmap=plt.cm.jet)\n",
    "\n",
    "\n",
    "\n",
    "plt.colorbar()\n",
    "plt.savefig('density_plot.png', bbox_inches='tight')\n",
    "plt.savefig('density_plot.pdf', bbox_inches='tight')"
   ]
  }
 ],
 "metadata": {
  "kernelspec": {
   "display_name": "Python 3",
   "language": "python",
   "name": "python3"
  },
  "language_info": {
   "codemirror_mode": {
    "name": "ipython",
    "version": 3
   },
   "file_extension": ".py",
   "mimetype": "text/x-python",
   "name": "python",
   "nbconvert_exporter": "python",
   "pygments_lexer": "ipython3",
   "version": "3.6.3"
  }
 },
 "nbformat": 4,
 "nbformat_minor": 2
}
