{
 "cells": [
  {
   "cell_type": "markdown",
   "metadata": {},
   "source": [
    "## QUESTIONS:\n",
    "\n",
    "PART 1: \n",
    "Write a Python function that takes the name of a star and returns a galpy Orbit object (setup with the star's position, distance, proper motion, and radial velocity). Apply to: GJ 440, Lacaille 8760, Vega. Check that you are finding the right star.\n",
    "\n",
    "PART 2: \n",
    "Match the APOGEE-red-clump catalog to Gaia DR2, integrate the orbits using galpy for 20 Gyr, and make a density plot in Galactocentric X and Y coordinates of all of the positions of the stars over the next 20 Gyr.\n",
    "\n",
    "PART 3: \n",
    "Write a function that takes (ra,dec,distance,proper motion ra,proper motion dec,line-of-sight velocity) and their Gaussian uncertainties for a star and computes eccentricity, zmax, rperi, rap and their uncertainties using Monte Carlo sampling with the galpy function galpy.actionAngle.actionAngleStaeckel.EccZmaxRperiRap. Apply to some stars in the Gaia RV sample. \n"
   ]
  },
  {
   "cell_type": "markdown",
   "metadata": {},
   "source": [
    "## SOLUTIONS:\n",
    "\n",
    "PART 1:\n",
    "\n",
    "Input name of star. We want to test 3 stars: GJ 440, Lacaille 8760, and Vega. Of course, our function will be generalized to any star identifiable by SIMBAD (Set of Identifications, Measurements, and Bibliography for Astronomical Data)"
   ]
  },
  {
   "cell_type": "code",
   "execution_count": 1,
   "metadata": {
    "collapsed": true
   },
   "outputs": [],
   "source": [
    "# starname = input(\"Input star name to return as galpy Orbit object\")\n",
    "# Testing Examples:\n",
    "starnames = [\"GJ 440\", \"Lacaille 8760\", \"Vega\"]"
   ]
  },
  {
   "cell_type": "code",
   "execution_count": 2,
   "metadata": {},
   "outputs": [
    {
     "name": "stdout",
     "output_type": "stream",
     "text": [
      "Created TAP+ (v1.0.1) - Connection:\n",
      "\tHost: gea.esac.esa.int\n",
      "\tUse HTTPS: False\n",
      "\tPort: 80\n",
      "\tSSL Port: 443\n"
     ]
    }
   ],
   "source": [
    "# importing necessary modules in the order used\n",
    "from astroquery.simbad import Simbad\n",
    "from astropy.coordinates import SkyCoord\n",
    "import astropy.units as u\n",
    "from astroquery.gaia import Gaia\n",
    "from galpy.orbit import Orbit"
   ]
  },
  {
   "cell_type": "markdown",
   "metadata": {},
   "source": [
    "Algorithm:\n",
    "\n",
    "1) Setup SIMBAD search to also accept: parallax, proper motion (right ascention direction), proper motion (declination direction) and radial velocity using add_votable_fields (VOTable - Virtual Observatory Table)\n",
    "\n",
    "2) Given name of star, identify star in SIMBAD database using the query_object function and retrieve info.\n",
    "\n",
    "\n",
    "3) Since SIMBAD returns RA & DEC in hours/mins/seconds & degrees/arcminutes/arcseconds respectively, we use Skycoord to convert both into float degrees (ICRS (International Celestial Reference System) units) as that is what a galpy Orbit object requires. This makes a Skycoord object.\n",
    "\n",
    "\n",
    "4) Combine simbad_converted with simbad_info to make simbad_query ready to be queried by ADQL (Astronomical Data Query Language). 6 variables are required for  epoch propagation.\n",
    "\n",
    "\n",
    "5) In case SIMBAD returns \"--\" for unknown value, set values to 0.\n",
    "\n",
    "\n",
    "6) Perform cone search in GAIA DR2 with 0.000001 degrees and using epoch adjustment in ADQL by EPOCH_PROP_POS (we are propagating from 2000 to 2015.5).\n",
    "\n",
    "\n",
    "7) If Gaia tables are not empty, at least 5 tables (maybe not radial velocity) should have values. If not, use SIMBAD data to make a galpy Orbit object. Either way, if radial velocity data is lacking, set it = 20 km/s.\n"
   ]
  },
  {
   "cell_type": "code",
   "execution_count": 3,
   "metadata": {
    "collapsed": true
   },
   "outputs": [],
   "source": [
    "def starname_to_galpyorbitobject(starname):\n",
    "    \n",
    "    simbad_setup = Simbad()  # Step 1\n",
    "    simbad_setup.add_votable_fields(\"parallax\", \"pmra\", \"pmdec\", \"rv_value\")\n",
    "    \n",
    "    simbad_info = simbad_setup.query_object(starname)  # Step 2   \n",
    "    \n",
    "    \n",
    "    simbad_converted = SkyCoord(simbad_info['RA'][0], simbad_info['DEC'][0], # Step 3\n",
    "                                unit = (u.hourangle, u.deg))  \n",
    "    \n",
    "    simbad_query = [simbad_converted.ra.value,  # Step 4\n",
    "                    simbad_converted.dec.value,\n",
    "                    simbad_info['PLX_VALUE'][0],\n",
    "                    simbad_info['PMRA'][0],\n",
    "                    simbad_info['PMDEC'][0],\n",
    "                    simbad_info['RV_VALUE'][0]]\n",
    "    \n",
    "    \n",
    "    simbad_query_fixed = []  # Step 5\n",
    "    for value in simbad_query:\n",
    "        if str(value) != '--':\n",
    "            simbad_query_fixed.append(value)\n",
    "        else:\n",
    "            simbad_query_fixed.append(0.0)\n",
    "        \n",
    "    if simbad_query_fixed[5] == 0.0:\n",
    "        simbad_query_fixed[5] = 20.0\n",
    "            \n",
    "    radius = 0.000001*u.deg  # Step 6\n",
    "    query =  \"\"\"\n",
    "             SELECT source_id, ra, dec, pmra, pmdec, parallax, radial_velocity\n",
    "             FROM gaiadr2.gaia_source\n",
    "             WHERE 1=CONTAINS(\n",
    "             POINT('ICRS',gaiadr2.gaia_source.ra,gaiadr2.gaia_source.dec),\n",
    "             CIRCLE('ICRS', \n",
    "             COORD1(EPOCH_PROP_POS({0},{1},{2},{3},{4},{5},2000,2015.5)),\n",
    "             COORD2(EPOCH_PROP_POS({0},{1},{2},{3},{4},{5},2000,2015.5)), {6}))\n",
    "             \"\"\".format(*simbad_query_fixed, radius.value)\n",
    "    gaiadr2_info = Gaia.launch_job_async(query)\n",
    "    results = gaiadr2_info.get_results()\n",
    "    \n",
    "    if len(results) == 0:  # Step 7\n",
    "        simbad_query_fixed[2] = 1 / simbad_query_fixed[2]  # parallax to distance\n",
    "        orbit = Orbit(vxvv = (simbad_query_fixed), radec = True)\n",
    "        return orbit\n",
    "    else:\n",
    "        if results['radial_velocity'][0] == '--':\n",
    "            results['radial_velocity'][0] = 20\n",
    "        orbit = Orbit(vxvv = (results['ra'][0],\n",
    "                              results['dec'][0],\n",
    "                              1 / results['parallax'][0],\n",
    "                              results['pmra'][0],\n",
    "                              results['pmdec'][0],\n",
    "                              results['radial_velocity'][0]), radec = True)\n",
    "        return orbit"
   ]
  },
  {
   "cell_type": "code",
   "execution_count": 4,
   "metadata": {},
   "outputs": [
    {
     "name": "stdout",
     "output_type": "stream",
     "text": [
      "Query finished.\n",
      "<class 'galpy.orbit_src.Orbit.Orbit'>\n",
      "Star: GJ 440\n",
      "RA: 176.428816667 deg\n",
      "DEC: -64.8415166667 deg\n",
      "Distance: 0.00463434980073 kpc\n",
      "Proper Motion RA: 2662.036 mas/yr\n",
      "Proper Motion DEC: -345.182999998 deg\n",
      "Radial Velocity: 20.0 km/s\n",
      "\n",
      "Query finished.\n",
      "<class 'galpy.orbit_src.Orbit.Orbit'>\n",
      "Star: Lacaille 8760\n",
      "RA: 319.313619583 deg\n",
      "DEC: -38.8673597222 deg\n",
      "Distance: 0.00394617418413 kpc\n",
      "Proper Motion RA: -3260.29 mas/yr\n",
      "Proper Motion DEC: -1146.22 deg\n",
      "Radial Velocity: 20.11 km/s\n",
      "\n",
      "Query finished.\n",
      "<class 'galpy.orbit_src.Orbit.Orbit'>\n",
      "Star: Vega\n",
      "RA: 279.234734583 deg\n",
      "DEC: 38.7836888889 deg\n",
      "Distance: 0.00767872226062 kpc\n",
      "Proper Motion RA: 200.94 mas/yr\n",
      "Proper Motion DEC: 286.23 deg\n",
      "Radial Velocity: -20.6 km/s\n",
      "\n"
     ]
    }
   ],
   "source": [
    "# testing out inputted stars\n",
    "for star in starnames:\n",
    "    orbit = starname_to_galpyorbitobject(star)\n",
    "    print(type(orbit))\n",
    "    print(\"Star:\", star)\n",
    "    print(\"RA:\", orbit.ra(), \"deg\")\n",
    "    print(\"DEC:\", orbit.dec(), \"deg\")\n",
    "    print(\"Distance:\", orbit.dist(), \"kpc\")\n",
    "    print(\"Proper Motion RA:\", orbit.pmra(), \"mas/yr\")\n",
    "    print(\"Proper Motion DEC:\", orbit.pmdec(), \"deg\")\n",
    "    print(\"Radial Velocity:\", orbit.vlos(), \"km/s\\n\")"
   ]
  },
  {
   "cell_type": "markdown",
   "metadata": {},
   "source": [
    "PART 2:"
   ]
  },
  {
   "cell_type": "code",
   "execution_count": 5,
   "metadata": {},
   "outputs": [
    {
     "name": "stdout",
     "output_type": "stream",
     "text": [
      "Populating the interactive namespace from numpy and matplotlib\n"
     ]
    }
   ],
   "source": [
    "# importing necessary modules in the order used, \n",
    "# assume modules in PART 1 are still being used\n",
    "import gaia_tools.load as gload\n",
    "import numpy as np\n",
    "from galpy.potential import MWPotential2014\n",
    "%pylab inline"
   ]
  },
  {
   "cell_type": "code",
   "execution_count": 6,
   "metadata": {},
   "outputs": [
    {
     "name": "stdout",
     "output_type": "stream",
     "text": [
      "C:\\Users\\micha\\Anaconda3\\lib\\site-packages\\gaia_tools-0.2-py3.6.egg\\gaia_tools\\load\\__init__.py:114: UserWarning: Falling back on simple APOGEE interface; for more functionality, install the jobovy/apogee package\n",
      "  warnings.warn(\"Falling back on simple APOGEE interface; for more functionality, install the jobovy/apogee package\")\n",
      "\n"
     ]
    }
   ],
   "source": [
    "# Since I had trouble running my python function to download data online, \n",
    "# I manually downloaded APOGEE-RC DR14 and the crossmatched GAIA DR2 stars\n",
    "# So, this function calls files locally and does not require internet.\n",
    "\n",
    "rc_cat, gaia2_matches= gload.apogeerc(xmatch='gaiadr2')\n",
    "# I made changes to gaia_tools/xmatch/__init__.py source file, \n",
    "# I changed 'float128' to 'float64' in line64 as I kept getting a float128 error"
   ]
  },
  {
   "cell_type": "code",
   "execution_count": 7,
   "metadata": {},
   "outputs": [
    {
     "name": "stdout",
     "output_type": "stream",
     "text": [
      "29484\n"
     ]
    }
   ],
   "source": [
    "# This quickly checks how many stars are crossmatched.\n",
    "counter = 0\n",
    "for i in gaia2_matches:\n",
    "    counter +=1\n",
    "print (counter)"
   ]
  },
  {
   "cell_type": "code",
   "execution_count": null,
   "metadata": {},
   "outputs": [],
   "source": [
    "# Running this script takes over an hour, plot is attached by PDF.\n",
    "ts = np.linspace(0, 20, 100)*u.Gyr  # to integrate orbits over 20 Billion years\n",
    "x = []  # store all x points\n",
    "y = []  # story all y points\n",
    "counter = 0\n",
    "for star in range(np.size(gaia2_matches)):\n",
    "    # stars with no radial velocity recorded are removed \n",
    "    # by default, they are -9999.99 km/s which is obviously incorrect\n",
    "    if gaia2_matches[star][\"radial_velocity\"] !=  -9999.99:\n",
    "        o = Orbit(vxvv=[gaia2_matches[star][\"ra_epoch2000\"],\n",
    "                        gaia2_matches[star][\"dec_epoch2000\"],\n",
    "                        (1/gaia2_matches[star][\"parallax\"]),\n",
    "                        gaia2_matches[star][\"pmra\"],\n",
    "                        gaia2_matches[star][\"pmdec\"],\n",
    "                        gaia2_matches[star][\"radial_velocity\"]], \n",
    "                        radec = True, ro = 8., vo = 220.)\n",
    "        o.integrate(ts, MWPotential2014)\n",
    "        info = o.plot(d1='x',d2='y')\n",
    "        x_temp, y_temp = info[0].get_data()\n",
    "        x.extend(x_temp)\n",
    "        y.extend(y_temp)\n",
    "        plt.close()"
   ]
  },
  {
   "cell_type": "code",
   "execution_count": null,
   "metadata": {
    "scrolled": false
   },
   "outputs": [],
   "source": [
    "# Make density plot (2D histogram)\n",
    "\n",
    "x2 = x[0:90000] # x & y each have a million data points, which is too much for matplotlib to handle\n",
    "y2 = y[0:90000] # instead, we plot the first 90,000 points which represents the orbits of the first 900 cross matches stars\n",
    "\n",
    "plt.hist2d(x2, y2, bins=(200, 200), cmap=plt.cm.jet)\n",
    "plt.xlim(-15, 15)\n",
    "plt.ylim(-15, 15)\n",
    "plt.colorbar()\n",
    "plt.savefig('density_plot_points_200_0-90000.pdf')\n",
    "plt.show()  # note the higher density on the right side of the ring, this is hypothesized to be near the location of the sun, \n",
    "            # which is where all most stars start their orbit, since we only know info from the local stars in the Milky Way."
   ]
  }
 ],
 "metadata": {
  "kernelspec": {
   "display_name": "Python 3",
   "language": "python",
   "name": "python3"
  },
  "language_info": {
   "codemirror_mode": {
    "name": "ipython",
    "version": 3
   },
   "file_extension": ".py",
   "mimetype": "text/x-python",
   "name": "python",
   "nbconvert_exporter": "python",
   "pygments_lexer": "ipython3",
   "version": "3.6.3"
  }
 },
 "nbformat": 4,
 "nbformat_minor": 2
}
